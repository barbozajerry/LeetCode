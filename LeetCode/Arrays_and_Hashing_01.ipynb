{
  "nbformat": 4,
  "nbformat_minor": 0,
  "metadata": {
    "colab": {
      "private_outputs": true,
      "provenance": []
    },
    "kernelspec": {
      "name": "python3",
      "display_name": "Python 3"
    },
    "language_info": {
      "name": "python"
    }
  },
  "cells": [
    {
      "cell_type": "code",
      "execution_count": null,
      "metadata": {
        "id": "GWpYzLuz2LPp"
      },
      "outputs": [],
      "source": []
    },
    {
      "cell_type": "markdown",
      "source": [],
      "metadata": {
        "id": "Y4leG9mHZaFL"
      }
    },
    {
      "cell_type": "markdown",
      "source": [
        "<h2> Contains Duplicates: LeetCode #217 <h2>"
      ],
      "metadata": {
        "id": "6dIzbuFR89Tr"
      }
    },
    {
      "cell_type": "markdown",
      "source": [
        "Given an integer array *nums*, return *true* if any value appears at least twice in the array, and return *false* if every element is distinct.\n",
        "\n",
        "Input: nums = \\[ 1, 2, 3, 1 \\] \\\\\n",
        "   Output: true"
      ],
      "metadata": {
        "id": "Q62i2ZfU2aAl"
      }
    },
    {
      "cell_type": "code",
      "source": [
        "# Brute Force\n",
        "# Time: O(n^2)\n",
        "# Space: O(1)\n",
        "from typing import List\n",
        "\n",
        "class Solution:\n",
        "    def containsDuplicate(self, nums: List[int]) -> bool:\n",
        "        # Iterate through the indices of the nums list\n",
        "        for i in range(len(nums)):\n",
        "            # Iterate through the indices that come after i\n",
        "            for j in range(i + 1, len(nums)):\n",
        "                # Check if the elements at indices i and j are equal\n",
        "                if nums[i] == nums[j]:\n",
        "                    # If there is a duplicate, return True\n",
        "                    return True\n",
        "        # If no duplicates are found, return False\n",
        "        return False"
      ],
      "metadata": {
        "id": "KI9KjgRd4Shb"
      },
      "execution_count": null,
      "outputs": []
    },
    {
      "cell_type": "markdown",
      "source": [
        "The Brute-Force approach compares every pair of the ekements in the list, resulting in a time complexity of O(n^2)"
      ],
      "metadata": {
        "id": "NSFs2qaL8fWQ"
      }
    },
    {
      "cell_type": "code",
      "source": [
        "# Sorting\n",
        "# Time: O(nlogn)\n",
        "# Space: O(1)\n",
        "\n",
        "from typing import List\n",
        "\n",
        "class Solution:\n",
        "    def containsDuplicate(self, nums: List[int]) -> bool:\n",
        "        nums.sort()  # Sort the list in ascending order\n",
        "\n",
        "        # Check if any adjacent elements are equal\n",
        "        for i in range(1, len(nums)):\n",
        "            if nums[i] == nums[i-1]:\n",
        "                return True\n",
        "\n",
        "        return False"
      ],
      "metadata": {
        "id": "U0MJorfz86Ch"
      },
      "execution_count": null,
      "outputs": []
    },
    {
      "cell_type": "markdown",
      "source": [
        "We compare adjacent elements after sorting."
      ],
      "metadata": {
        "id": "8WYPTU2c95aG"
      }
    },
    {
      "cell_type": "code",
      "source": [
        "# HashMap\n",
        "# Time: O(n)\n",
        "# Space O(n)\n",
        "from typing import List\n",
        "\n",
        "class Solution:\n",
        "    def containsDuplicate(self, nums: List[int]) -> bool:\n",
        "        seen = set()  # Create a set to store the seen numbers\n",
        "\n",
        "        # Iterate through the numbers in the list\n",
        "        for num in nums:\n",
        "            # If the number is already in the set, it's a duplicate\n",
        "            if num in seen:\n",
        "                return True\n",
        "            # Add the number to the set\n",
        "            seen.add(num)\n",
        "\n",
        "        return False"
      ],
      "metadata": {
        "id": "SE65yqCJ-6Gw"
      },
      "execution_count": null,
      "outputs": []
    },
    {
      "cell_type": "markdown",
      "source": [
        "<h2>Valid Anagram: LeetCode #242</h2>"
      ],
      "metadata": {
        "id": "1Iw5TRajZrMh"
      }
    },
    {
      "cell_type": "markdown",
      "source": [
        "Given two strings s and t, return true if it is an anagram of s, and false otherwise. An Anagram is a word or phradse formed by rearranging the letters of a different word or phrase, typically using all original letters exactly once."
      ],
      "metadata": {
        "id": "ozpD4BkeZ2zv"
      }
    },
    {
      "cell_type": "code",
      "source": [
        "# HashMap\n",
        "class Solution:\n",
        "  def isAnagram(self, s:str, t:str):\n",
        "    # Check if the lengths of the strings are different, if they are return False\n",
        "    if len(s)!=len(t):\n",
        "      return False\n",
        "    countS, countT = {}, {}\n",
        "\n",
        "    for i in range(len(s)):\n",
        "      # Increment the count of character s[i] in countS then in countT\n",
        "      countS[s[i]] = 1 + countS.get(s[i], 0)\n",
        "      countT[s[i]] = 1 + countT.get(s[i], 0)\n",
        "    for c in countS:\n",
        "      # Compare the counts of characters in countS and countT\n",
        "      if countS[c]!= countT.get(c,0):\n",
        "        return False\n",
        "    # If all characters have the same count, return True (anagrams)\n",
        "    return True"
      ],
      "metadata": {
        "id": "raUHRY1raSX3"
      },
      "execution_count": null,
      "outputs": []
    },
    {
      "cell_type": "markdown",
      "source": [
        "Time Complexity: O(n)\n",
        "\n",
        "* The initial check for the lengths of the strings has a constant time, O(1)\n",
        "* The loop that iterates over the characters in 's' runs n times, where n is the lenght of 's'\n",
        "* Inside the loop, the operations of updating the counts 'countS' and 'countT' is O(1) constant.\n",
        "* The second loop that compares the counts also takes O(n) in the worst case, as it iterates over all unique characters in countS.\n",
        "\n",
        "Space complexity: O(n)  \n",
        "* The space used by the dictionaries countS and countT depends on the number of unique characters in the input strings. In the worst case, where all characters are unique, the space required is proportional to n.\n",
        "\n",
        "* In addition to the dictionaries, the code uses a constant amount of space for variables and temporary values, which can be ignored in the overall space complexity analysis."
      ],
      "metadata": {
        "id": "B0wCztIXk87Q"
      }
    },
    {
      "cell_type": "code",
      "source": [
        "# Sorting\n",
        "# Time Complexity: O(nlogn)\n",
        "# Space Complexity: O(n)\n",
        "\n",
        "class Solution:\n",
        "    def isAnagram(self, s: str, t: str) -> bool:\n",
        "        if len(s) != len(t):\n",
        "            return False\n",
        "        # Convert string s to a sorted list of characters\n",
        "        sorted_s = sorted(list(s))\n",
        "         # Convert string t to a sorted list of characters\n",
        "        sorted_t = sorted(list(t))\n",
        "\n",
        "        return sorted_s == sorted_t\n",
        "'''\n",
        "\n",
        "Converting s and t into lists of characters: This step takes O(n) time, where n is the length of the input strings.\n",
        "The list() function converts a string into a list of characters by iterating over each character in the string.\n",
        "Sorting the lists sorted_s and sorted_t: The time complexity of the sorting algorithm used by the sorted() function is O(n log n),\n",
        "where n is the length of the input lists. Sorting a list of length n requires comparisons and swaps that grow logarithmically with the size of the list.\n",
        "Comparing the sorted lists: The comparison operation takes O(n) time, as it iterates over the lists of characters once to check if the elements at corresponding positions are equal.\n",
        "Therefore, the overall time complexity is dominated by the sorting step, which is O(n log n). The other steps, such as list conversion and list comparison, have a time complexity of O(n).\n",
        "However, the sorting step is the most time-consuming operation in this approach.\n",
        "\n",
        "It's important to note that the time complexity notation O(n log n) represents an upper bound on the growth rate of the algorithm.\n",
        "In practice, the actual running time may vary depending on factors like the implementation of the sorting algorithm and the specific characteristics of the input strings.\n",
        "\n",
        "\n",
        "\n",
        "'''"
      ],
      "metadata": {
        "id": "7jOcCTOWm3Xz"
      },
      "execution_count": null,
      "outputs": []
    }
  ]
}