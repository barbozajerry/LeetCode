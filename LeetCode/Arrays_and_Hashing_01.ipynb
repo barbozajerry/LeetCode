{
  "nbformat": 4,
  "nbformat_minor": 0,
  "metadata": {
    "colab": {
      "private_outputs": true,
      "provenance": []
    },
    "kernelspec": {
      "name": "python3",
      "display_name": "Python 3"
    },
    "language_info": {
      "name": "python"
    }
  },
  "cells": [
    {
      "cell_type": "code",
      "execution_count": null,
      "metadata": {
        "id": "GWpYzLuz2LPp"
      },
      "outputs": [],
      "source": []
    },
    {
      "cell_type": "markdown",
      "source": [
        "<h2> Contains Duplicates: #217 <h2>"
      ],
      "metadata": {
        "id": "6dIzbuFR89Tr"
      }
    },
    {
      "cell_type": "markdown",
      "source": [
        "Given an integer array *nums*, return *true* if any value appears at least twice in the array, and return *false* if every element is distinct.\n",
        "\n",
        "Input: nums = \\[ 1, 2, 3, 1 \\] \\\\\n",
        "   Output: true"
      ],
      "metadata": {
        "id": "Q62i2ZfU2aAl"
      }
    },
    {
      "cell_type": "code",
      "source": [
        "# Brute Force\n",
        "# Time: O(n^2)\n",
        "# Space: O(1)\n",
        "from typing import List\n",
        "\n",
        "class Solution:\n",
        "    def containsDuplicate(self, nums: List[int]) -> bool:\n",
        "        # Iterate through the indices of the nums list\n",
        "        for i in range(len(nums)):\n",
        "            # Iterate through the indices that come after i\n",
        "            for j in range(i + 1, len(nums)):\n",
        "                # Check if the elements at indices i and j are equal\n",
        "                if nums[i] == nums[j]:\n",
        "                    # If there is a duplicate, return True\n",
        "                    return True\n",
        "        # If no duplicates are found, return False\n",
        "        return False"
      ],
      "metadata": {
        "id": "KI9KjgRd4Shb"
      },
      "execution_count": null,
      "outputs": []
    },
    {
      "cell_type": "markdown",
      "source": [
        "The Brute-Force approach compares every pair of the ekements in the list, resulting in a time complexity of O(n^2)"
      ],
      "metadata": {
        "id": "NSFs2qaL8fWQ"
      }
    },
    {
      "cell_type": "code",
      "source": [
        "# Sorting\n",
        "# Time: O(nlogn)\n",
        "# Space: O(1)\n",
        "\n",
        "from typing import List\n",
        "\n",
        "class Solution:\n",
        "    def containsDuplicate(self, nums: List[int]) -> bool:\n",
        "        nums.sort()  # Sort the list in ascending order\n",
        "\n",
        "        # Check if any adjacent elements are equal\n",
        "        for i in range(1, len(nums)):\n",
        "            if nums[i] == nums[i-1]:\n",
        "                return True\n",
        "\n",
        "        return False"
      ],
      "metadata": {
        "id": "U0MJorfz86Ch"
      },
      "execution_count": null,
      "outputs": []
    },
    {
      "cell_type": "markdown",
      "source": [
        "We compare adjacent elements after sorting."
      ],
      "metadata": {
        "id": "8WYPTU2c95aG"
      }
    },
    {
      "cell_type": "code",
      "source": [
        "# HashMap\n",
        "# Time: O(n)\n",
        "# Space O(n)\n",
        "from typing import List\n",
        "\n",
        "class Solution:\n",
        "    def containsDuplicate(self, nums: List[int]) -> bool:\n",
        "        seen = set()  # Create a set to store the seen numbers\n",
        "\n",
        "        # Iterate through the numbers in the list\n",
        "        for num in nums:\n",
        "            # If the number is already in the set, it's a duplicate\n",
        "            if num in seen:\n",
        "                return True\n",
        "            # Add the number to the set\n",
        "            seen.add(num)\n",
        "\n",
        "        return False"
      ],
      "metadata": {
        "id": "SE65yqCJ-6Gw"
      },
      "execution_count": null,
      "outputs": []
    }
  ]
}