{
  "nbformat": 4,
  "nbformat_minor": 0,
  "metadata": {
    "colab": {
      "private_outputs": true,
      "provenance": []
    },
    "kernelspec": {
      "name": "python3",
      "display_name": "Python 3"
    },
    "language_info": {
      "name": "python"
    }
  },
  "cells": [
    {
      "cell_type": "code",
      "execution_count": null,
      "metadata": {
        "id": "GWpYzLuz2LPp"
      },
      "outputs": [],
      "source": []
    },
    {
      "cell_type": "markdown",
      "source": [],
      "metadata": {
        "id": "Y4leG9mHZaFL"
      }
    },
    {
      "cell_type": "markdown",
      "source": [
        "**<h2> 1) Contains Duplicates: LeetCode #217 <h2>**"
      ],
      "metadata": {
        "id": "6dIzbuFR89Tr"
      }
    },
    {
      "cell_type": "markdown",
      "source": [
        "Given an integer array *nums*, return *true* if any value appears at least twice in the array, and return *false* if every element is distinct.\n",
        "\n",
        "Input: nums = \\[ 1, 2, 3, 1 \\] \\\\\n",
        "   Output: true"
      ],
      "metadata": {
        "id": "Q62i2ZfU2aAl"
      }
    },
    {
      "cell_type": "markdown",
      "source": [],
      "metadata": {
        "id": "Y4qRi0j5OkJ_"
      }
    },
    {
      "cell_type": "code",
      "source": [
        "# Brute Force\n",
        "# Time: O(n^2)\n",
        "# Space: O(1)\n",
        "from typing import List\n",
        "\n",
        "class Solution:\n",
        "    def containsDuplicate(self, nums: List[int]) -> bool:\n",
        "        # Iterate through the indices of the nums list\n",
        "        for i in range(len(nums)):\n",
        "            # Iterate through the indices that come after i\n",
        "            for j in range(i + 1, len(nums)):\n",
        "                # Check if the elements at indices i and j are equal\n",
        "                if nums[i] == nums[j]:\n",
        "                    # If there is a duplicate, return True\n",
        "                    return True\n",
        "        # If no duplicates are found, return False\n",
        "        return False"
      ],
      "metadata": {
        "id": "KI9KjgRd4Shb"
      },
      "execution_count": null,
      "outputs": []
    },
    {
      "cell_type": "markdown",
      "source": [
        "The Brute-Force approach compares every pair of the ekements in the list, resulting in a time complexity of O(n^2)"
      ],
      "metadata": {
        "id": "NSFs2qaL8fWQ"
      }
    },
    {
      "cell_type": "code",
      "source": [
        "# Sorting\n",
        "# Time: O(nlogn)\n",
        "# Space: O(1)\n",
        "\n",
        "from typing import List\n",
        "\n",
        "class Solution:\n",
        "    def containsDuplicate(self, nums: List[int]) -> bool:\n",
        "        nums.sort()  # Sort the list in ascending order\n",
        "\n",
        "        # Check if any adjacent elements are equal\n",
        "        for i in range(1, len(nums)):\n",
        "            if nums[i] == nums[i-1]:\n",
        "                return True\n",
        "\n",
        "        return False"
      ],
      "metadata": {
        "id": "U0MJorfz86Ch"
      },
      "execution_count": null,
      "outputs": []
    },
    {
      "cell_type": "markdown",
      "source": [
        "We compare adjacent elements after sorting."
      ],
      "metadata": {
        "id": "8WYPTU2c95aG"
      }
    },
    {
      "cell_type": "code",
      "source": [
        "# HashMap\n",
        "# Time: O(n)\n",
        "# Space O(n)\n",
        "from typing import List\n",
        "\n",
        "class Solution:\n",
        "    def containsDuplicate(self, nums: List[int]) -> bool:\n",
        "        seen = set()  # Create a set to store the seen numbers\n",
        "\n",
        "        # Iterate through the numbers in the list\n",
        "        for num in nums:\n",
        "            # If the number is already in the set, it's a duplicate\n",
        "            if num in seen:\n",
        "                return True\n",
        "            # Add the number to the set\n",
        "            seen.add(num)\n",
        "\n",
        "        return False"
      ],
      "metadata": {
        "id": "SE65yqCJ-6Gw"
      },
      "execution_count": null,
      "outputs": []
    },
    {
      "cell_type": "markdown",
      "source": [
        "**<h2>2) Valid Anagram: LeetCode #242</h2>**"
      ],
      "metadata": {
        "id": "1Iw5TRajZrMh"
      }
    },
    {
      "cell_type": "markdown",
      "source": [
        "Given two strings s and t, return true if it is an anagram of s, and false otherwise. An Anagram is a word or phradse formed by rearranging the letters of a different word or phrase, typically using all original letters exactly once."
      ],
      "metadata": {
        "id": "ozpD4BkeZ2zv"
      }
    },
    {
      "cell_type": "code",
      "source": [
        "# HashMap\n",
        "class Solution:\n",
        "  def isAnagram(self, s:str, t:str):\n",
        "    # Check if the lengths of the strings are different, if they are return False\n",
        "    if len(s)!=len(t):\n",
        "      return False\n",
        "    countS, countT = {}, {}\n",
        "\n",
        "    for i in range(len(s)):\n",
        "      # Increment the count of character s[i] in countS then in countT\n",
        "      countS[s[i]] = 1 + countS.get(s[i], 0)\n",
        "      countT[s[i]] = 1 + countT.get(s[i], 0)\n",
        "    for c in countS:\n",
        "      # Compare the counts of characters in countS and countT\n",
        "      if countS[c]!= countT.get(c,0):\n",
        "        return False\n",
        "    # If all characters have the same count, return True (anagrams)\n",
        "    return True"
      ],
      "metadata": {
        "id": "raUHRY1raSX3"
      },
      "execution_count": null,
      "outputs": []
    },
    {
      "cell_type": "markdown",
      "source": [
        "Time Complexity: O(n)\n",
        "\n",
        "* The initial check for the lengths of the strings has a constant time, O(1)\n",
        "* The loop that iterates over the characters in 's' runs n times, where n is the lenght of 's'\n",
        "* Inside the loop, the operations of updating the counts 'countS' and 'countT' is O(1) constant.\n",
        "* The second loop that compares the counts also takes O(n) in the worst case, as it iterates over all unique characters in countS.\n",
        "\n",
        "Space complexity: O(n)  \n",
        "* The space used by the dictionaries countS and countT depends on the number of unique characters in the input strings. In the worst case, where all characters are unique, the space required is proportional to n.\n",
        "\n",
        "* In addition to the dictionaries, the code uses a constant amount of space for variables and temporary values, which can be ignored in the overall space complexity analysis."
      ],
      "metadata": {
        "id": "B0wCztIXk87Q"
      }
    },
    {
      "cell_type": "code",
      "source": [
        "# Sorting\n",
        "# Time Complexity: O(nlogn)\n",
        "# Space Complexity: O(n)\n",
        "\n",
        "class Solution:\n",
        "    def isAnagram(self, s: str, t: str) -> bool:\n",
        "        if len(s) != len(t):\n",
        "            return False\n",
        "        # Convert string s to a sorted list of characters\n",
        "        sorted_s = sorted(list(s))\n",
        "         # Convert string t to a sorted list of characters\n",
        "        sorted_t = sorted(list(t))\n",
        "\n",
        "        return sorted_s == sorted_t\n",
        "'''\n",
        "\n",
        "Converting s and t into lists of characters: This step takes O(n) time, where n is the length of the input strings.\n",
        "The list() function converts a string into a list of characters by iterating over each character in the string.\n",
        "Sorting the lists sorted_s and sorted_t: The time complexity of the sorting algorithm used by the sorted() function is O(n log n),\n",
        "where n is the length of the input lists. Sorting a list of length n requires comparisons and swaps that grow logarithmically with the size of the list.\n",
        "Comparing the sorted lists: The comparison operation takes O(n) time, as it iterates over the lists of characters once to check if the elements at corresponding positions are equal.\n",
        "Therefore, the overall time complexity is dominated by the sorting step, which is O(n log n). The other steps, such as list conversion and list comparison, have a time complexity of O(n).\n",
        "However, the sorting step is the most time-consuming operation in this approach.\n",
        "\n",
        "It's important to note that the time complexity notation O(n log n) represents an upper bound on the growth rate of the algorithm.\n",
        "In practice, the actual running time may vary depending on factors like the implementation of the sorting algorithm and the specific characteristics of the input strings.\n",
        "\n",
        "\n",
        "\n",
        "'''"
      ],
      "metadata": {
        "id": "7jOcCTOWm3Xz"
      },
      "execution_count": null,
      "outputs": []
    },
    {
      "cell_type": "markdown",
      "source": [
        "**<h2>3) Group Anagram: LeetCode #49</h2>**\n",
        "\n",
        "Given an array strings strs, group the anagrams together. You can return the answer in any order. <br> <br>\n",
        "An  **Anagram** is a word or phrase formed by rearranging the letters of a different word or phrase, typically using all the original letters exactly once.\n",
        "\n",
        "**Example 1:** <br>\n",
        "**Input:** strs = [\"eat\",\"tea\",\"tan\",\"ate\",\"nat\",\"bat\"] <br>\n",
        "**Output:** [[\"bat\"],[\"nat,\"tan\"],[\"ate\",\"eat\",\"tea\"]]\n",
        "\n",
        "\n"
      ],
      "metadata": {
        "id": "0pX3jSz2EkCl"
      }
    },
    {
      "cell_type": "code",
      "source": [
        "#Hashmap\n",
        "#Time Complexity: O(n*m)\n",
        "#Space Complexity: O(n+m)\n",
        "\n",
        "from collections import defaultdict\n",
        "from typing import List\n",
        "\n",
        "class Solution:\n",
        "    def groupAnagrams(self, strs: List[str]) -> List[List[str]]:\n",
        "        # Create a dictionary to store anagrams grouped by their character counts\n",
        "        res = defaultdict(list)\n",
        "\n",
        "        # Iterate through each string in the input list\n",
        "        for s in strs:\n",
        "            # Initialize a list to store the count of each character (a to z)\n",
        "            count = [0] * 26\n",
        "\n",
        "            # Count the occurrences of each character in the current string\n",
        "            for c in s:\n",
        "                count[ord(c) - ord(\"a\")] += 1\n",
        "                # For example: ord(\"a\") is 97, ord(\"b\") is 98, and so on.\n",
        "                # Subtracting ord(\"a\") from the ordinal value of a character gives its position in the count list.\n",
        "\n",
        "            # Convert the count list to a tuple to use it as a dictionary key\n",
        "            # Append the current string to the list of anagrams with the same character count\n",
        "            res[tuple(count)].append(s)\n",
        "\n",
        "        # Return the grouped anagrams as a list of lists\n",
        "        return res.values()"
      ],
      "metadata": {
        "id": "wV_LeOIuGHGV"
      },
      "execution_count": null,
      "outputs": []
    },
    {
      "cell_type": "markdown",
      "source": [
        "**Time Complexity:**\n",
        "\n",
        "The outer loop iterates through each string in the input list, which has a length of 'n'.\n",
        "The inner loop iterates through each character in the current string. In the worst case, this loop will iterate through all the characters of the longest string, which can be considered as 'm' (maximum length of a string).\n",
        "For each character, you perform constant time operations: calculating the ordinal value, subtracting ord(\"a\"), and incrementing the count in the list. So, the inner loop is O(m).\n",
        "\n",
        "Since the inner loop is nested inside the outer loop, the overall time complexity is O(n * m), where 'n' is the number of strings in the input list and 'm' is the maximum length of a string.\n",
        "\n",
        "**Space Complexity:**\n",
        "\n",
        "The space complexity is mainly determined by the usage of the 'res' dictionary and the 'count' list.\n",
        "The 'res' dictionary stores anagrams grouped by their character counts. In the worst case, each character count can have a separate entry in the dictionary.\n",
        "The 'count' list is used to store the character frequencies for each string.\n",
        "The space complexity can be broken down as follows:\n",
        "\n",
        "'res' dictionary: O(n) (since there can be up to 'n' keys in the dictionary)\n",
        "'count' list: O(m) (for the longest string)\n",
        "Overall, the space complexity is O(n + m), where 'n' is the number of strings and 'm' is the maximum length of a string.\n",
        "\n",
        "Keep in mind that these complexities are upper bounds and can vary based on the distribution of input strings and characters."
      ],
      "metadata": {
        "id": "P_J5CisWOCSv"
      }
    },
    {
      "cell_type": "code",
      "source": [
        "#Brute Force\n",
        "#Time Complexity: O(k*logk)\n",
        "#Space: O(n)\n",
        "from typing import List\n",
        "\n",
        "class Solution:\n",
        "    def groupAnagrams(self, strs: List[str]) -> List[List[str]]:\n",
        "        grouped_anagrams = []\n",
        "\n",
        "        while strs:\n",
        "            current_str = strs.pop(0)\n",
        "            anagram_group = [current_str]\n",
        "\n",
        "            i = 0\n",
        "            while i < len(strs):\n",
        "                if sorted(current_str) == sorted(strs[i]):\n",
        "                    anagram_group.append(strs.pop(i))\n",
        "                else:\n",
        "                    i += 1\n",
        "\n",
        "            grouped_anagrams.append(anagram_group)\n",
        "\n",
        "        return grouped_anagrams"
      ],
      "metadata": {
        "id": "BSkKfPjDOSis"
      },
      "execution_count": null,
      "outputs": []
    },
    {
      "cell_type": "code",
      "source": [
        "#Sorting\n",
        "#Time Complexity: O(n*k*logk)\n",
        "#Space Complexity: O(n*K)\n",
        "class Solution:\n",
        "    def groupAnagrams(self, strs: List[str]) -> List[List[str]]:\n",
        "        anagram_groups = {}\n",
        "\n",
        "        for s in strs:\n",
        "            sorted_s = ''.join(sorted(s))  # Sort the characters in the string\n",
        "            if sorted_s in anagram_groups:\n",
        "                anagram_groups[sorted_s].append(s)\n",
        "            else:\n",
        "                anagram_groups[sorted_s] = [s]\n",
        "\n",
        "        return list(anagram_groups.values())"
      ],
      "metadata": {
        "id": "S8heTwQbO5ge"
      },
      "execution_count": null,
      "outputs": []
    }
  ]
}